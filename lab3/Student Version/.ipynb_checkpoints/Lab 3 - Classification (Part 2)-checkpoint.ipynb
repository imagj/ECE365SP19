{
 "cells": [
  {
   "cell_type": "markdown",
   "metadata": {},
   "source": [
    "# Lab 3: Classification (Part 2) and Model Selection"
   ]
  },
  {
   "cell_type": "markdown",
   "metadata": {},
   "source": [
    "## Patrick Moore (ptmoore2)\n",
    "\n",
    "### Due February 6, 2019 11:59 PM [Next Wednesday]\n",
    "\n",
    "**Logistics and Lab Sumission**\n",
    "\n",
    "See the [course website](https://courses.engr.illinois.edu/ece365/sp2019/labsvvv.html). Remember that all labs count equally, despite the labs being graded from a different number of total points)."
   ]
  },
  {
   "cell_type": "markdown",
   "metadata": {},
   "source": [
    "**What You Will Need To Know For This Lab**\n",
    "\n",
    "This lab covers a few more basic classifiers which can be used for M-ary classification:\n",
    "- Naive Bayes\n",
    "- Logistic Regression\n",
    "- Support Vector Machines\n",
    "\n",
    "as well as cross-validation, a tool for model selection and assessment.\n",
    " \n",
    "There are some problems which have short answer questions. <b>Do not write an essay -- a few (1-2) complete sentences will suffice.</b>\n",
    "\n",
    "<b>Also, be clear about your answers</b>. For example, if a question asks you \"Which classifier would you choose?\", be unequivocal about which classifier you would choose (and why); as engineers, part of your job is to make design decisions and justify them in the context of the alternatives and in the application. \n",
    "\n",
    "Remember in many applications, the end goal is not always \"run a classifier\", like in a homework problem, but is to use the output of the classifier in the context of the problem at hand (e.g. detecting spam, identifying cancer, etc.). Because of this, some of our Engineering Design-type questions are designed to get you to think about the entire design problem at a high level.\n",
    "\n",
    "\n",
    "**Warning: Do not train on your test sets. You will automatically have your score halved for a problem if you train on your test data.**"
   ]
  },
  {
   "cell_type": "markdown",
   "metadata": {},
   "source": [
    "**Preamble (don't change this)**"
   ]
  },
  {
   "cell_type": "code",
   "execution_count": 1,
   "metadata": {},
   "outputs": [
    {
     "name": "stdout",
     "output_type": "stream",
     "text": [
      "Populating the interactive namespace from numpy and matplotlib\n"
     ]
    }
   ],
   "source": [
    "%pylab inline\n",
    "import numpy as np\n",
    "from sklearn import neighbors\n",
    "from sklearn import svm\n",
    "from sklearn import model_selection\n",
    "from numpy import genfromtxt\n",
    "from sklearn.preprocessing import MinMaxScaler\n",
    "import glob"
   ]
  },
  {
   "cell_type": "markdown",
   "metadata": {},
   "source": [
    "### Problem 1: Spam Detection (90 points)\n",
    "\n",
    "In this problem, you will be constructing a crude spam detector. As you all know, when you receive an e-mail, it can be divided into one of two types: ham (useful mail, label $-1$) and spam (junk mail, label $+1$). In the [olden days](http://www.paulgraham.com/spam.html), people tried writing a bunch of rules to detect spam. However, it was quickly seen that machine learning approaches work fairly well for a little bit of work. \n",
    "\n",
    "You will be designing a spam detector by applying some of the classification techniques you learned in class to a batch of emails used to train and test [SpamAssassin](http://spamassassin.apache.org/), a leading anti-spam software package. \n",
    "\n",
    "Let the *vocabulary* of a dataset be a list of all terms occuring in a data set. So, for example, a vocabulary could be [\"cat\",\"dog\",\"chupacabra\", \"aerospace\", ...]. \n",
    "\n",
    "Our features will be based only the frequencies of terms in our vocabulary occuring in the e-mails (such an approach is called a *bag of words* approach, since we ignore the positions of the terms in the emails). The $j$-th feature is the number of times term $j$ in the vocabulary occurs in the email. If you are interested in further details on this model, you can see Chapters 6 and 13 in [Manning's Book](http://nlp.stanford.edu/IR-book/).\n",
    "\n",
    "You will use the following classifiers in this problem:\n",
    "- sklearn.naive_bayes.BernoulliNB (Naive Bayes Classifier with Bernoulli Model)\n",
    "- sklearn.naive_bayes.MultinomialNB (Naive Bayes Classifier with Multinomial Model)\n",
    "- sklearn.svm.LinearSVC (Linear Support Vector Machine)\n",
    "- sklearn.linear_model.LogisticRegression (Logistic Regression)\n",
    "- sklearn.neighbors.KNeighborsClassifier (1-Nearest Neighbor Classifier)\n",
    "\n",
    "In the context of the Bernoulli Model for Naive Bayes, scikit-learn will binarize the features by interpretting the $j$-th feature to be $1$ if the $j$-th term in the vocabulary occurs in the email and $0$ otherwise. This is a categorical Naive Bayes model, with binary features. While we did not discuss the multinomial model in class, it operates directly on the frequencies of terms in the vocabulary, and is discussed in Section 13.2 in [Manning's Book](http://nlp.stanford.edu/IR-book/) (though you do not need to read this reference). Both the Bernoulli and Multinomial models are commonly used for Naive Bayes in text classification. "
   ]
  },
  {
   "cell_type": "markdown",
   "metadata": {},
   "source": [
    "A sample Ham email is:\n",
    "\n",
    "    From nic@starflung.com  Mon Jun 24 17:06:54 2002\n",
    "    Return-Path: 7910726.0.27May2002215326@mp.opensrs.net\n",
    "    Delivery-Date: Tue May 28 02:53:28 2002\n",
    "    Received: from mp.opensrs.net (mp.opensrs.net [216.40.33.45]) by\n",
    "        dogma.slashnull.org (8.11.6/8.11.6) with ESMTP id g4S1rSe14718 for\n",
    "        <zzz@spamassassin.taint.org>; Tue, 28 May 2002 02:53:28 +0100\n",
    "    Received: (from popensrs@localhost) by mp.opensrs.net (8.9.3/8.9.3) id\n",
    "        VAA04361; Mon, 27 May 2002 21:53:26 -0400\n",
    "    Message-Id: <7910726.0.27May2002215326@mp.opensrs.net>\n",
    "    Date: Mon, 27 May 2002 21:53:26 -0500 (EST)\n",
    "    From: \"Starflung NIC\" <nic@starflung.com>\n",
    "    To: <zzz@spamassassin.taint.org>\n",
    "    Subject: Automated 30 day renewal reminder 2002-05-27\n",
    "    X-Keywords: \n",
    "\n",
    "    The following domains that are registered as belonging\n",
    "    to you are due to expire within the next 60 days. If\n",
    "    you would like to renew them, please contact\n",
    "    nic@starflung.com; otherwise they will be deactivated\n",
    "    and may be registered by another.\n",
    "\n",
    "\n",
    "    Domain Name, Expiry Date\n",
    "    nutmegclothing.com, 2002-06-26\n",
    "    \n",
    "    \n",
    "A sample Spam email is: \n",
    "\n",
    "    From jjj@mymail.dk  Fri Aug 23 11:03:31 2002\n",
    "    Return-Path: <jjj@mymail.dk>\n",
    "    Delivered-To: zzzz@localhost.example.com\n",
    "    Received: from localhost (localhost [127.0.0.1])\n",
    "        by phobos.labs.example.com (Postfix) with ESMTP id 478B54415C\n",
    "        for <zzzz@localhost>; Fri, 23 Aug 2002 06:02:57 -0400 (EDT)\n",
    "    Received: from mail.webnote.net [193.120.211.219]\n",
    "        by localhost with POP3 (fetchmail-5.9.0)\n",
    "        for zzzz@localhost (single-drop); Fri, 23 Aug 2002 11:02:57 +0100 (IST)\n",
    "    Received: from smtp.easydns.com (smtp.easydns.com [205.210.42.30])\n",
    "        by webnote.net (8.9.3/8.9.3) with ESMTP id IAA08912;\n",
    "        Fri, 23 Aug 2002 08:13:36 +0100\n",
    "    From: jjj@mymail.dk\n",
    "    Received: from mymail.dk (unknown [61.97.34.233])\n",
    "        by smtp.easydns.com (Postfix) with SMTP\n",
    "        id 7484A2F85C; Fri, 23 Aug 2002 03:13:31 -0400 (EDT)\n",
    "    Reply-To: <jjj@mymail.dk>\n",
    "    Message-ID: <008c61d64eed$6184e5d5$4bc22de3@udnugg>\n",
    "    To: bbr_hooten@yahoo.com\n",
    "    Subject: HELP WANTED.  WORK FROM HOME REPS.\n",
    "    MiME-Version: 1.0\n",
    "    Content-Type: text/plain;\n",
    "        charset=\"iso-8859-1\"\n",
    "    X-Priority: 3 (Normal)\n",
    "    X-MSMail-Priority: Normal\n",
    "    X-Mailer: Microsoft Outlook, Build 10.0.2616\n",
    "    Importance: Normal\n",
    "    Date: Fri, 23 Aug 2002 03:13:31 -0400 (EDT)\n",
    "    Content-Transfer-Encoding: 8bit\n",
    "\n",
    "    Help wanted.  We are a 14 year old fortune 500 company, that is\n",
    "    growing at a tremendous rate.  We are looking for individuals who\n",
    "    want to work from home.\n",
    "\n",
    "    This is an opportunity to make an excellent income.  No experience\n",
    "    is required.  We will train you.\n",
    "\n",
    "    So if you are looking to be employed from home with a career that has\n",
    "    vast opportunities, then go:\n",
    "\n",
    "    http://www.basetel.com/wealthnow\n",
    "\n",
    "    We are looking for energetic and self motivated people.  If that is you\n",
    "    than click on the link and fill out the form, and one of our\n",
    "    employement specialist will contact you.\n",
    "\n",
    "    To be removed from our link simple go to:\n",
    "\n",
    "    http://www.basetel.com/remove.html\n",
    "\n",
    "\n",
    "    1349lmrd5-948HyhJ3622xXiM0-290VZdq6044fFvN0-799hUsU07l50\n",
    "\n"
   ]
  },
  {
   "cell_type": "markdown",
   "metadata": {},
   "source": [
    "First, we will load the data. Our dataset has a bit over 9000 emails, with about 25% of them being spam. We will use 50% of them as a training set, 25% of them as a validation set and 25% of them as a test set. "
   ]
  },
  {
   "cell_type": "code",
   "execution_count": 2,
   "metadata": {},
   "outputs": [],
   "source": [
    "# Get list of emails\n",
    "spamfiles=glob.glob('./Data/Spam/*')\n",
    "hamfiles=glob.glob('./Data/Ham/*')"
   ]
  },
  {
   "cell_type": "code",
   "execution_count": 3,
   "metadata": {},
   "outputs": [],
   "source": [
    "# First, we will split the files into the training, validation and test sets.\n",
    "\n",
    "np.random.seed(seed=222017) # seed the RNG for repeatability\n",
    "\n",
    "fnames=np.asarray(spamfiles+hamfiles)\n",
    "nfiles=fnames.size\n",
    "labels=np.ones(nfiles)\n",
    "labels[len(spamfiles):]=-1\n",
    "\n",
    "# Randomly permute the files we have\n",
    "idx=np.random.permutation(nfiles)\n",
    "fnames=fnames[idx]\n",
    "labels=labels[idx]\n",
    "\n",
    "#Split the file names into which set they belong to\n",
    "tname=fnames[:int(nfiles/2)]\n",
    "trainlabels=labels[:int(nfiles/2)]\n",
    "vname=fnames[int(nfiles/2):int(nfiles*3/4)]\n",
    "vallabels=labels[int(nfiles/2):int(nfiles*3/4)]\n",
    "tename=fnames[int(3/4*nfiles):]\n",
    "testlabels=labels[int(3/4*nfiles):]"
   ]
  },
  {
   "cell_type": "code",
   "execution_count": 4,
   "metadata": {},
   "outputs": [],
   "source": [
    "from sklearn.feature_extraction.text import CountVectorizer\n",
    "\n",
    "# Get our Bag of Words Features from the data\n",
    "bow = CountVectorizer(input='filename',encoding='iso-8859-1',binary=False)\n",
    "traindata=bow.fit_transform(tname)\n",
    "valdata=bow.transform(vname)\n",
    "testdata=bow.transform(tename)"
   ]
  },
  {
   "cell_type": "markdown",
   "metadata": {},
   "source": [
    "The $100$ most and least common terms in the vocabulary are:"
   ]
  },
  {
   "cell_type": "code",
   "execution_count": 5,
   "metadata": {},
   "outputs": [
    {
     "name": "stdout",
     "output_type": "stream",
     "text": [
      "100 most common terms:  slashnull,dogma,ist,thu,not,lists,cnet,mail,wed,as,html,have,click,jmason,exmh,00,are,align,freshrpms,or,mailman,date,text,mon,message,12,postfix,type,arial,users,bgcolor,ie,rpm,linux,version,22,be,taint,your,mailto,sourceforge,admin,content,20,color,table,jm,on,aug,border,127,example,face,href,this,nbsp,gif,09,subject,10,img,src,sep,it,that,0100,spamassassin,height,esmtp,is,size,xent,fork,you,tr,www,in,list,11,br,width,received,localhost,id,of,and,org,by,with,net,for,td,http,2002,font,from,3d,to,the,com \n",
      "\n",
      "100 least common terms:  g6mn17405760,e17titx,e17tvdy,e17ueb2,e17vjs8,e17vjsf,e17w5r4,e17wchv,e17wcmr,s4tkh2qxhrdntbervcuydvpgt4frugzlf3xwvohcrdtxohcfpaziiaed0ne9lw5,e17wosd,e17wosk,e17wssb,e17titf,e17wsyl,e17xbmd,e17xd4y,e17xlhj,e17yawz,s4lyze220qd,e17yozl,e17ysm1,e17ysna,e17ysox,e17ywux,e17z5re,e17z65d,e17wved,e17tfo0,e17texc,e17stjj,e17kazn,e17kb3f,e17kb3l,e17kba2,e17kcfg,e17kkxb,e17kxx7,e17kxxd,e17lk0h,e17lzkx,e17m2xi,e17mbzo,e17mpr7,e17n4br,e17n8od,e17nmuf,e17oai5,e17owlg,e17owlz,e17pfia,e17pfih,e17r7cf,e17rqza,e17rqzi,e17s52j,e17s6q9,e17sd3a,e17zimu,e17zl6i,e18bs5u,e18ec44161,e1n_n,e1pyognhf88zoewompdrqazaaaaaaaaaaaaaaaaaaaaaaaaaaaaaaaaaaaaaaaaaaaaaaaaaaaaa,s42bvq,s3zy0uqn9cxgumxzswr1e,e1s_jim_mac_gearailt,e1t,e1xwdo3b1k3wvr1u6cyugmvhm1nnyssndv2knuhw4g,s3wul4rjqofkdbzdhdtzxxnb005aaaaaa,e208716f77,e208e2940b3,e20c8406ff,s3w3ibekx4my0f8afuy,s3ulb6cl,e2178f6d01a70dfbdf9c84c4dcaf58dc,e22,e22432940aa,e224536,e226e294098,e22ab2d42c,e23,e23917,e23a916f1e,s3qjh,e240,e240merc,e241b6184464107168656739bf96c6b9,e242f2940ef,e1l_,e17k4ao,e1l1o9q,e1irt,e18gf17,e18hpmg,e18ifxm,e193416fea,e1amfeffcsliuttecieokbirfye5ds7mqt6dpbmltqjmwz5kzz5qvkvkvknb0i8hihpnwqro1z3a,e1b2916f03,e1bf816efc\n"
     ]
    }
   ],
   "source": [
    "counts=np.reshape(np.asarray(np.argsort(traindata.sum(axis=0))),-1)\n",
    "vocab=np.reshape(np.asarray(bow.get_feature_names()),-1)\n",
    "print (\"100 most common terms: \" , ','.join(str(s) for s in vocab[counts[-100:]]), \"\\n\")\n",
    "print (\"100 least common terms: \" , ','.join(str(s) for s in vocab[counts[:100]]))"
   ]
  },
  {
   "cell_type": "markdown",
   "metadata": {},
   "source": [
    "We will have our training data in `traindata` (with labels in `trainlabels`), validation data in `valdata` (with labels in `vallabels`) and test data in `testdata` (with labels in `testlabels`). The data is stored as a sparse scipy matrix (scipy.sparse.csr.csr_matrix), since we have a decent number of features (~100k), most of which are zero (~0.2% are non-zero), this allows storing the data in a few megabytes. Directly storing it as a numpy array (as we did in lab 1) would take around 8 gigabytes. Working with sparse data can make many algorithms run faster and use less storage. "
   ]
  },
  {
   "cell_type": "markdown",
   "metadata": {},
   "source": [
    "Train each of the following classifiers **( 3 Points Each )**:\n",
    "- sklearn.naive_bayes.BernoulliNB (Naive Bayes Classifier with Bernoulli Model)\n",
    "- sklearn.naive_bayes.MultinomialNB (Naive Bayes Classifier with Multinomial Model)\n",
    "- sklearn.svm.LinearSVC (Linear Support Vector Machine)\n",
    "- sklearn.linear_model.LogisticRegression (Logistic Regression)\n",
    "- sklearn.neighbors.KNeighborsClassifier (as a 1-Nearest Neighbor Classifier)\n",
    "on the training data in `traindata` with corresponding labels `trainlabels`. Use the default parameters, unless otherwise noted.\n",
    "\n",
    "For each classifier, report:\n",
    "- Time it took to fit the classifier (i.e. call the .fit method) **(1 Point Each)**\n",
    "- Training Error **( 1 Point Each)**\n",
    "\n",
    "This part of the problem has a total of **25 points**."
   ]
  },
  {
   "cell_type": "code",
   "execution_count": 6,
   "metadata": {},
   "outputs": [],
   "source": [
    "from sklearn.naive_bayes import BernoulliNB \n",
    "from sklearn.naive_bayes import MultinomialNB \n",
    "from sklearn.svm import LinearSVC \n",
    "from sklearn.linear_model import LogisticRegression \n",
    "from sklearn.neighbors import KNeighborsClassifier \n",
    "from sklearn.svm import SVC"
   ]
  },
  {
   "cell_type": "code",
   "execution_count": 7,
   "metadata": {},
   "outputs": [
    {
     "name": "stdout",
     "output_type": "stream",
     "text": [
      "BernoulliNB accuracy =  0.9401197604790419\n",
      "BernoulliNB error =  0.05988023952095811\n",
      "BernoulliNB time elapsed =  0.06981253623962402\n",
      "\n",
      "\n",
      "MultinomialNB accuracy =  0.9751924721984602\n",
      "MultinomialNB error =  0.02480752780153983\n",
      "MultinomialNB time elapsed =  0.02193903923034668\n",
      "\n",
      "\n",
      "LinearSVC accuracy =  0.9893071000855432\n",
      "LinearSVC error =  0.010692899914456766\n",
      "LinearSVC time elapsed =  26.27768564224243\n",
      "\n",
      "\n",
      "LogisticRegression accuracy =  0.9910179640718563\n",
      "LogisticRegression error =  0.008982035928143728\n",
      "LogisticRegression time elapsed =  5.958019495010376\n",
      "\n",
      "\n",
      "KNeighborsClassifier accuracy =  0.9790419161676647\n",
      "KNeighborsClassifier error =  0.020958083832335328\n",
      "KNeighborsClassifier time elapsed =  0.004987239837646484\n"
     ]
    }
   ],
   "source": [
    "# Put your code here\n",
    "import time\n",
    "\n",
    "BernoulliNBClassifier = BernoulliNB()\n",
    "start = time.time()\n",
    "BernoulliNBClassifier.fit(traindata, trainlabels)\n",
    "end = time.time()\n",
    "BernoulliNBClassifier_error = BernoulliNBClassifier.score(testdata, testlabels)\n",
    "print(\"BernoulliNB accuracy = \", BernoulliNBClassifier_error)\n",
    "print(\"BernoulliNB error = \", 1 - BernoulliNBClassifier_error)\n",
    "print(\"BernoulliNB time elapsed = \", end - start)\n",
    "print(\"\\n\")\n",
    "\n",
    "MultinomialNBClassifier = MultinomialNB()\n",
    "start = time.time()\n",
    "MultinomialNBClassifier.fit(traindata, trainlabels)\n",
    "end = time.time()\n",
    "MultinomialNBClassifier_error = MultinomialNBClassifier.score(testdata, testlabels)\n",
    "print(\"MultinomialNB accuracy = \", MultinomialNBClassifier_error)\n",
    "print(\"MultinomialNB error = \", 1 - MultinomialNBClassifier_error)\n",
    "print(\"MultinomialNB time elapsed = \", end - start)\n",
    "print(\"\\n\")\n",
    "\n",
    "LinearSVCClassifier = LinearSVC(max_iter=100000)\n",
    "start = time.time()\n",
    "LinearSVCClassifier.fit(traindata, trainlabels)\n",
    "end = time.time()\n",
    "LinearSVCClassifier_error = LinearSVCClassifier.score(testdata, testlabels)\n",
    "print(\"LinearSVC accuracy = \", LinearSVCClassifier_error)\n",
    "print(\"LinearSVC error = \", 1 - LinearSVCClassifier_error)\n",
    "print(\"LinearSVC time elapsed = \", end - start)\n",
    "print(\"\\n\")\n",
    "\n",
    "LogisticRegressionClassifier = LogisticRegression(solver='lbfgs', max_iter=30000)\n",
    "start = time.time()\n",
    "LogisticRegressionClassifier.fit(traindata, trainlabels)\n",
    "end = time.time()\n",
    "LogisticRegressionClassifier_error = LogisticRegressionClassifier.score(testdata, testlabels)\n",
    "print(\"LogisticRegression accuracy = \", LogisticRegressionClassifier_error)\n",
    "print(\"LogisticRegression error = \", 1 - LogisticRegressionClassifier_error)\n",
    "print(\"LogisticRegression time elapsed = \", end - start)\n",
    "print(\"\\n\")\n",
    "\n",
    "KNeighborsClassifierClassifier = KNeighborsClassifier(n_neighbors=1)\n",
    "start = time.time()\n",
    "KNeighborsClassifierClassifier.fit(traindata, trainlabels)\n",
    "end = time.time()\n",
    "KNeighborsClassifierClassifier_error = KNeighborsClassifierClassifier.score(testdata, testlabels)\n",
    "print(\"KNeighborsClassifier accuracy = \", KNeighborsClassifierClassifier_error)\n",
    "print(\"KNeighborsClassifier error = \", 1 - KNeighborsClassifierClassifier_error)\n",
    "print(\"KNeighborsClassifier time elapsed = \", end - start)"
   ]
  },
  {
   "cell_type": "markdown",
   "metadata": {},
   "source": [
    "Give a justification as to why the Linear SVM and Logistic regression have their particular value of training error. **(5 points)**"
   ]
  },
  {
   "cell_type": "markdown",
   "metadata": {},
   "source": [
    "\"When the training size reaches infinity the discriminative model (logistic regression and linear SVM) performs better than the generative model (Naive Bayes). However the generative model reaches its asymptotic faster (O(log n)) than the discriminative model(O (n)).\" This basically means that Naive Bayes and KNeighbors reach a somewhat accurate model for a small sample size, but when the sample size becomes extreemly large (like our pool of 9000 emails) the logistic regression and linear SVM models out perform the other models."
   ]
  },
  {
   "cell_type": "markdown",
   "metadata": {},
   "source": [
    "Run each of the classifiers on the validation data **(2 Points Each)**:\n",
    "- sklearn.naive_bayes.BernoulliNB (Naive Bayes Classifier with Bernoulli Model)\n",
    "- sklearn.naive_bayes.BernoulliNB (Naive Bayes Classifier with Multiomial Model)\n",
    "- sklearn.svm.LinearSVC (Linear Support Vector Machine)\n",
    "- sklearn.linear_model.LogisticRegression (Logistic Regression)\n",
    "- sklearn.neighbors.KNeighborsClassifier (as a 1-Nearest Neighbor Classifier)\n",
    "on the training data in `traindata` with corresponding labels `trainlabels`. Use the default parameters, unless otherwise noted.\n",
    "\n",
    "For each classifier:\n",
    "- Store the labels it predicted as \\_\\_vallabels, where \\_\\_ is NB,MB,SVM,LR,NN respectively. **( 1 Point Each)**\n",
    "- Time it took to run the classifier on the data **(1 Point Each)**\n",
    "- Validation Error **(1 Point Each)**\n",
    "\n",
    "This part of the problem has a total of **25 points**."
   ]
  },
  {
   "cell_type": "code",
   "execution_count": 8,
   "metadata": {},
   "outputs": [
    {
     "name": "stdout",
     "output_type": "stream",
     "text": [
      "BernoulliNB validation accuracy =  0.9452289259734703\n",
      "BernoulliNB validation error =  0.0547710740265297\n",
      "BernoulliNB time elapsed =  0.026927471160888672\n",
      "\n",
      "\n",
      "MultinomialNB validation accuracy =  0.9730423620025674\n",
      "MultinomialNB validation error =  0.02695763799743256\n",
      "MultinomialNB time elapsed =  0.010969877243041992\n",
      "\n",
      "\n",
      "LinearSVC validation accuracy =  0.9893025246041934\n",
      "LinearSVC validation error =  0.010697475395806566\n",
      "LinearSVC time elapsed =  0.0049877166748046875\n",
      "\n",
      "\n",
      "LogisticRegression validation accuracy =  0.9914420196833548\n",
      "LogisticRegression validation error =  0.00855798031664523\n",
      "LogisticRegression time elapsed =  0.0039899349212646484\n",
      "\n",
      "\n",
      "KNeighborsClassifier validation accuracy =  0.983739837398374\n",
      "KNeighborsClassifier validation error =  0.016260162601625994\n",
      "KNeighborsClassifier time elapsed =  2.3357512950897217\n"
     ]
    }
   ],
   "source": [
    "# Put your code here\n",
    "start = time.time()\n",
    "NBvallabels = BernoulliNBClassifier.predict(valdata)\n",
    "end = time.time()\n",
    "BernoulliNBClassifier_error = BernoulliNBClassifier.score(valdata, vallabels)\n",
    "print(\"BernoulliNB validation accuracy = \", BernoulliNBClassifier_error)\n",
    "print(\"BernoulliNB validation error = \", 1 - BernoulliNBClassifier_error)\n",
    "print(\"BernoulliNB time elapsed = \", end - start)\n",
    "print(\"\\n\")\n",
    "\n",
    "start = time.time()\n",
    "MBvallabels = MultinomialNBClassifier.predict(valdata)\n",
    "end = time.time()\n",
    "MultinomialNBClassifier_error = MultinomialNBClassifier.score(valdata, vallabels)\n",
    "print(\"MultinomialNB validation accuracy = \", MultinomialNBClassifier_error)\n",
    "print(\"MultinomialNB validation error = \", 1 - MultinomialNBClassifier_error)\n",
    "print(\"MultinomialNB time elapsed = \", end - start)\n",
    "print(\"\\n\")\n",
    "\n",
    "start = time.time()\n",
    "SVMvallabels = LinearSVCClassifier.predict(valdata)\n",
    "end = time.time()\n",
    "LinearSVCClassifier_error = LinearSVCClassifier.score(valdata, vallabels)\n",
    "print(\"LinearSVC validation accuracy = \", LinearSVCClassifier_error)\n",
    "print(\"LinearSVC validation error = \", 1 - LinearSVCClassifier_error)\n",
    "print(\"LinearSVC time elapsed = \", end - start)\n",
    "print(\"\\n\")\n",
    "\n",
    "start = time.time()\n",
    "LRvallabels = LogisticRegressionClassifier.predict(valdata)\n",
    "end = time.time()\n",
    "LogisticRegressionClassifier_error = LogisticRegressionClassifier.score(valdata, vallabels)\n",
    "print(\"LogisticRegression validation accuracy = \", LogisticRegressionClassifier_error)\n",
    "print(\"LogisticRegression validation error = \", 1 - LogisticRegressionClassifier_error)\n",
    "print(\"LogisticRegression time elapsed = \", end - start)\n",
    "print(\"\\n\")\n",
    "\n",
    "start = time.time()\n",
    "NNvallabels = KNeighborsClassifierClassifier.predict(valdata)\n",
    "end = time.time()\n",
    "KNeighborsClassifierClassifier_error = KNeighborsClassifierClassifier.score(valdata, vallabels)\n",
    "print(\"KNeighborsClassifier validation accuracy = \", KNeighborsClassifierClassifier_error)\n",
    "print(\"KNeighborsClassifier validation error = \", 1 - KNeighborsClassifierClassifier_error)\n",
    "print(\"KNeighborsClassifier time elapsed = \", end - start)"
   ]
  },
  {
   "cell_type": "markdown",
   "metadata": {},
   "source": [
    "Let us take a more nuanced look at the type of errors made on a data set. The following function calculates a confusion matrix (Fig. 2.1 in the notes) and some statistics. You may wish to read Section 2.1.1 in the notes -- it may be helpful, but is not necessary to complete this problem."
   ]
  },
  {
   "cell_type": "code",
   "execution_count": 9,
   "metadata": {},
   "outputs": [],
   "source": [
    "def ConfMatr(truelabels,estimatedlabels,classifiername):\n",
    "    # classifiername is a string, such as 'Naive Bayes (Bernoulli)'\n",
    "    cm=np.zeros((2,2))\n",
    "    cm[0,0]=np.sum(np.logical_and(truelabels==1,estimatedlabels==1)) # True Positives\n",
    "    cm[0,1]=np.sum(np.logical_and(truelabels==-1,estimatedlabels==1)) # False Positive\n",
    "    cm[1,0]=np.sum(np.logical_and(truelabels==1,estimatedlabels==-1)) # False Negative\n",
    "    cm[1,1]=np.sum(np.logical_and(truelabels==-1,estimatedlabels==-1)) # True Negatives\n",
    "    print (\"Classifier Name: %s\"% classifiername )\n",
    "    print (\"True Positives:\", cm[0,0], \"False Positive:\", cm[0,1])\n",
    "    print (\"False Negative:\", cm[1,0], \"True Negatives:\", cm[1,1])\n",
    "    print (\"True Positive Rate : \", cm[0,0]/np.sum(truelabels==1))\n",
    "    print (\"False Positive Rate: \", cm[0,1]/np.sum(truelabels==-1))\n",
    "    print (\"---\")"
   ]
  },
  {
   "cell_type": "markdown",
   "metadata": {},
   "source": [
    "Run ConfMatr using the validation labels and their estimates for all the classifiers we've used in this problem. **(5 points)**"
   ]
  },
  {
   "cell_type": "code",
   "execution_count": 10,
   "metadata": {},
   "outputs": [
    {
     "name": "stdout",
     "output_type": "stream",
     "text": [
      "Classifier Name: <class 'sklearn.naive_bayes.BernoulliNB'>\n",
      "True Positives: 490.0 False Positive: 16.0\n",
      "False Negative: 112.0 True Negatives: 1719.0\n",
      "True Positive Rate :  0.813953488372093\n",
      "False Positive Rate:  0.009221902017291067\n",
      "---\n",
      "Classifier Name: <class 'sklearn.naive_bayes.MultinomialNB'>\n",
      "True Positives: 549.0 False Positive: 10.0\n",
      "False Negative: 53.0 True Negatives: 1725.0\n",
      "True Positive Rate :  0.9119601328903655\n",
      "False Positive Rate:  0.005763688760806916\n",
      "---\n",
      "Classifier Name: <class 'sklearn.svm.classes.LinearSVC'>\n",
      "True Positives: 594.0 False Positive: 17.0\n",
      "False Negative: 8.0 True Negatives: 1718.0\n",
      "True Positive Rate :  0.9867109634551495\n",
      "False Positive Rate:  0.009798270893371758\n",
      "---\n",
      "Classifier Name: <class 'sklearn.linear_model.logistic.LogisticRegression'>\n",
      "True Positives: 596.0 False Positive: 14.0\n",
      "False Negative: 6.0 True Negatives: 1721.0\n",
      "True Positive Rate :  0.9900332225913622\n",
      "False Positive Rate:  0.008069164265129682\n",
      "---\n",
      "Classifier Name: <class 'sklearn.neighbors.classification.KNeighborsClassifier'>\n",
      "True Positives: 578.0 False Positive: 14.0\n",
      "False Negative: 24.0 True Negatives: 1721.0\n",
      "True Positive Rate :  0.9601328903654485\n",
      "False Positive Rate:  0.008069164265129682\n",
      "---\n"
     ]
    }
   ],
   "source": [
    "# Put your code here\n",
    "ConfMatr(vallabels, NBvallabels, BernoulliNB)\n",
    "ConfMatr(vallabels, MBvallabels, MultinomialNB)\n",
    "ConfMatr(vallabels, SVMvallabels, LinearSVC)\n",
    "ConfMatr(vallabels, LRvallabels, LogisticRegression)\n",
    "ConfMatr(vallabels, NNvallabels, KNeighborsClassifier)"
   ]
  },
  {
   "cell_type": "markdown",
   "metadata": {},
   "source": [
    "What does the True Positive Rate mean for this problem? What does the False Positive Rate mean for this problem? Do we want these quantites to be high, low or don't care? Explain using words (no equations!). **(10 point)**"
   ]
  },
  {
   "cell_type": "markdown",
   "metadata": {},
   "source": [
    "The true positive rate is how often the algorithm recognizes spam emails correctly, and the false positive rate is how often the algorithm incorrectly recognizes an email as spam when it isn't. We want to maximize the true positive rate and minimize the false positive rate as to have the most accurate output. (It is more important to minimize the false positive than maximizing the true positive rate because it is often much more damaging to filter out a real email than to let a spam email through a filter.)"
   ]
  },
  {
   "cell_type": "markdown",
   "metadata": {},
   "source": [
    "Based on the results of this problem and knowledge of the application at hand (spam filtering), pick one of the classifiers in this problem and describe how you would use it as part of a spam filter for the University of Illinois email system. \n",
    "\n",
    "Be sure to justify your choice. **(10 points)**\n",
    "\n",
    "For this problem, just sketch out a system design at a very high level -- how you would train the spam filter to deal with new threats, would you filter everyone's email jointly, etc. We're just looking for around a paragraph on how you would come up with a (very rough) engineering design using the results of this problem. You may get some inspiration from the [girls and boys](https://gmail.googleblog.com/2007/10/how-our-spam-filter-works.html) at [Gmail](https://gmail.googleblog.com/2015/07/the-mail-you-want-not-spam-you-dont.html), the [chimps at MailChimp](http://kb.mailchimp.com/delivery/spam-filters/about-spam-filters) or other places. Your answer should also include techniques you could use to improve the performance of the classifier over the baseline provided in this problem (e.g. new features, or whatever)."
   ]
  },
  {
   "cell_type": "markdown",
   "metadata": {},
   "source": [
    "For the spam filter, I would impliment the MultinomialNB Classifier because of its lowest false positive rate. Although it cant brag as high of a true positive rate, it is significantly more important to have a lower false positive rate than a higher true positive rate. To decrease the false positive rate, I would impliment a set of \"exception\" rules. One such rule may be to not flag particular email services as spam (such as '@illinois.edu'). The particular email handles chosen should be known handels that send mass messages that at first glance would appear as spam but are clearly important public service announcements. The should further decrease the false positive rate."
   ]
  },
  {
   "cell_type": "markdown",
   "metadata": {},
   "source": [
    "Run the classifier you selected in the previous part of the problem on the test data, and display test error and output of ConfMatr. Comment on the true/false positive rate and error as compared to that on the validation set. **(10 points)**"
   ]
  },
  {
   "cell_type": "code",
   "execution_count": 11,
   "metadata": {},
   "outputs": [
    {
     "name": "stdout",
     "output_type": "stream",
     "text": [
      "Classifier Name: <class 'sklearn.naive_bayes.MultinomialNB'>\n",
      "True Positives: 573.0 False Positive: 11.0\n",
      "False Negative: 47.0 True Negatives: 1707.0\n",
      "True Positive Rate :  0.9241935483870968\n",
      "False Positive Rate:  0.006402793946449359\n",
      "---\n"
     ]
    }
   ],
   "source": [
    "# Put your code here\n",
    "MBtestlabels = MultinomialNBClassifier.predict(testdata)\n",
    "ConfMatr(testlabels, MBtestlabels, MultinomialNB)"
   ]
  },
  {
   "cell_type": "markdown",
   "metadata": {},
   "source": [
    "Both the true positive and false positive rates from the test data are marginally higher than the validation set. Again, I decided on the MultinomialNB Classifier because of its lowest false positive rate. Although it cant brag as high of a true positive rate, it is significantly more important to have a lower false positive rate than a higher true positive rate."
   ]
  },
  {
   "cell_type": "markdown",
   "metadata": {
    "collapsed": true
   },
   "source": [
    "### Problem 2: Cross-Validation (50 Points)"
   ]
  },
  {
   "cell_type": "markdown",
   "metadata": {},
   "source": [
    "Write a function which implements $5$-fold cross-validation to estimate the error of a classifier with cross-validation with the 0,1-loss for k-Nearest Neighbors (kNN). \n",
    "\n",
    "You will be given as input:\n",
    "* A (N,d) numpy.ndarray of training data, trainData (with N divisible by 5)\n",
    "* A length $N$ numpy.ndarray of training labels, trainLabels\n",
    "* A number $k$, for which cross-validated error estimates will be outputted for $1,\\ldots,k$\n",
    "\n",
    "Your output will be a vector (represented as a numpy.ndarray) err, such that err[i] is the cross-validated estimate of using i neighbors (err will be of length $k+1$; the zero-th component of the vector will be meaningless). \n",
    "\n",
    "So that this problem is easier to grade, take your folds to be 0:N/5, N/5:2N/5, ..., 4N/5:N for cross-validation (In general, the folds should be randomly divided).\n",
    "\n",
    "Use scikit-learn's sklearn.neighbors.KNeighborsClassifier to perform the training and classification for the kNN models involved. Do not use any other features of scikit-learn, such as things from sklearn.model_selection. <b>(20 points)</b>"
   ]
  },
  {
   "cell_type": "code",
   "execution_count": 12,
   "metadata": {},
   "outputs": [],
   "source": [
    "def crossValidationkNN(trainData,trainLabels,k):\n",
    "    #Put your code here\n",
    "    err = np.zeros(k+1)\n",
    "    err[0] = None\n",
    "    N = int(traindata.size / 2)\n",
    "    N_5 = int(N / 5)\n",
    "    trainDataSet = [trainData[x:x+N_5] for x in range(0, N, N_5)]\n",
    "    trainlabelSet = [trainLabels[x:x+N_5] for x in range(0, N, N_5)]\n",
    "    for i in range(1, k+1):\n",
    "        datasubset = [x for l,x in enumerate(trainDataSet) if l!=0]\n",
    "        labelsubset = [x for l,x in enumerate(trainlabelSet) if l!=0]\n",
    "        combineddata = np.vstack(datasubset)\n",
    "        combinedlabels = np.hstack(labelsubset)\n",
    "        model = KNeighborsClassifier(i)\n",
    "        model.fit(combineddata, combinedlabels)\n",
    "        predicted = model.predict(trainDataSet[0])\n",
    "        sum = 0\n",
    "        for j in range(0, predicted.size):\n",
    "            if (predicted[j] != trainlabelSet[0][j]):\n",
    "                sum = sum + 1\n",
    "        currErr = (sum / predicted.size)\n",
    "        datasubset = [x for l,x in enumerate(trainDataSet) if l!=1]\n",
    "        labelsubset = [x for l,x in enumerate(trainlabelSet) if l!=1]\n",
    "        combineddata = np.vstack(datasubset)\n",
    "        combinedlabels = np.hstack(labelsubset)\n",
    "        model = KNeighborsClassifier(i)\n",
    "        model.fit(combineddata, combinedlabels)\n",
    "        predicted = model.predict(trainDataSet[1])\n",
    "        sum = 0\n",
    "        for j in range(0, predicted.size):\n",
    "            if (predicted[j] != trainlabelSet[1][j]):\n",
    "                sum = sum + 1\n",
    "        currErr = currErr + (sum / predicted.size)\n",
    "        datasubset = [x for l,x in enumerate(trainDataSet) if l!=2]\n",
    "        labelsubset = [x for l,x in enumerate(trainlabelSet) if l!=2]\n",
    "        combineddata = np.vstack(datasubset)\n",
    "        combinedlabels = np.hstack(labelsubset)\n",
    "        model = KNeighborsClassifier(i)\n",
    "        model.fit(combineddata, combinedlabels)\n",
    "        predicted = model.predict(trainDataSet[2])\n",
    "        sum = 0\n",
    "        for j in range(0, predicted.size):\n",
    "            if (predicted[j] != trainlabelSet[2][j]):\n",
    "                sum = sum + 1\n",
    "        currErr = currErr + (sum / predicted.size)\n",
    "        datasubset = [x for l,x in enumerate(trainDataSet) if l!=3]\n",
    "        labelsubset = [x for l,x in enumerate(trainlabelSet) if l!=3]\n",
    "        combineddata = np.vstack(datasubset)\n",
    "        combinedlabels = np.hstack(labelsubset)\n",
    "        model = KNeighborsClassifier(i)\n",
    "        model.fit(combineddata, combinedlabels)\n",
    "        predicted = model.predict(trainDataSet[3])\n",
    "        sum = 0\n",
    "        for j in range(0, predicted.size):\n",
    "            if (predicted[j] != trainlabelSet[3][j]):\n",
    "                sum = sum + 1\n",
    "        currErr = currErr + (sum / predicted.size)\n",
    "        datasubset = [x for l,x in enumerate(trainDataSet) if l!=4]\n",
    "        labelsubset = [x for l,x in enumerate(trainlabelSet) if l!=4]\n",
    "        combineddata = np.vstack(datasubset)\n",
    "        combinedlabels = np.hstack(labelsubset)\n",
    "        model = KNeighborsClassifier(i)\n",
    "        model.fit(combineddata, combinedlabels)\n",
    "        predicted = model.predict(trainDataSet[4])\n",
    "        sum = 0\n",
    "        for j in range(0, predicted.size):\n",
    "            if (predicted[j] != trainlabelSet[4][j]):\n",
    "                sum = sum + 1\n",
    "        currErr = currErr + (sum / predicted.size)\n",
    "        err[i] = currErr / 5 \n",
    "    return err"
   ]
  },
  {
   "cell_type": "markdown",
   "metadata": {},
   "source": [
    "Now, we will load some data (acquired from <a href=\"http://www.cs.ubc.ca/~murphyk/\">K.P. Murphy</a>'s <a href=\"https://github.com/probml/pmtk3\"> PMTK tookit</a>)."
   ]
  },
  {
   "cell_type": "code",
   "execution_count": 13,
   "metadata": {},
   "outputs": [],
   "source": [
    "problem2_tmp= genfromtxt('Data/p2.csv', delimiter=',')\n",
    "\n",
    "# Randomly reorder the data\n",
    "np.random.seed(seed=2217) # seed the RNG for repeatability\n",
    "idx=np.random.permutation(problem2_tmp.shape[0])\n",
    "problem2_tmp=problem2_tmp[idx]\n",
    "\n",
    "#The training data which you will use is called \"traindata\"\n",
    "traindata=problem2_tmp[:200,:2]\n",
    "#The training labels are in \"labels\"\n",
    "trainlabels=problem2_tmp[:200,2]\n",
    "\n",
    "#The test data which you will use is called \"testdata\" with labels \"testlabels\"\n",
    "testdata=problem2_tmp[200:,:2]\n",
    "testlabels=problem2_tmp[200:,2]"
   ]
  },
  {
   "cell_type": "markdown",
   "metadata": {},
   "source": [
    "Plot the cross-validation error versus number of neighbors for $1,\\ldots,30$ neighbors. <b>(10 points)</b>"
   ]
  },
  {
   "cell_type": "code",
   "execution_count": 14,
   "metadata": {},
   "outputs": [
    {
     "data": {
      "text/plain": [
       "[<matplotlib.lines.Line2D at 0x2918b591eb8>]"
      ]
     },
     "execution_count": 14,
     "metadata": {},
     "output_type": "execute_result"
    },
    {
     "data": {
      "image/png": "[encoded data removed]",
      "text/plain": [
       "<Figure size 432x288 with 1 Axes>"
      ]
     },
     "metadata": {
      "needs_background": "light"
     },
     "output_type": "display_data"
    }
   ],
   "source": [
    "# Put your code here\n",
    "errPlot = crossValidationkNN(traindata, trainlabels, 30)\n",
    "plot(errPlot)"
   ]
  },
  {
   "cell_type": "markdown",
   "metadata": {},
   "source": [
    "Select the number of neighbors which minimizes the cross-validation error. What is the cross-validation error for this number of neighbors? <b>(10 points)</b>"
   ]
  },
  {
   "cell_type": "code",
   "execution_count": 15,
   "metadata": {},
   "outputs": [
    {
     "name": "stdout",
     "output_type": "stream",
     "text": [
      "The number of neightbors which minimizes the cross-validation error is  14  with a error of  0.175\n"
     ]
    }
   ],
   "source": [
    "# Put your code here\n",
    "smallestErr = 1\n",
    "for i in range(1, 30):\n",
    "    if errPlot[i] < smallestErr:\n",
    "        smallestErr = errPlot[i]\n",
    "        smallestPnt = i\n",
    "print(\"The number of neightbors which minimizes the cross-validation error is \", smallestPnt, \" with a error of \", smallestErr)"
   ]
  },
  {
   "cell_type": "markdown",
   "metadata": {},
   "source": [
    "The number of neightbors which minimizes the cross-validation error is 14 with a error of 0.175"
   ]
  },
  {
   "cell_type": "markdown",
   "metadata": {},
   "source": [
    "Train a kNN model on the whole training data using the number of neighbors you found in the previous part of the question, and apply it to the test data. Is it higher or lower than the cross-validation error you found in the last part of the problem? **(10 points)**"
   ]
  },
  {
   "cell_type": "code",
   "execution_count": 16,
   "metadata": {},
   "outputs": [
    {
     "name": "stdout",
     "output_type": "stream",
     "text": [
      "The whole training data has a cross-validation error of 0.21399999999999997\n"
     ]
    }
   ],
   "source": [
    "# Put your code here\n",
    "modelTraining = KNeighborsClassifier(14)\n",
    "modelTraining.fit(traindata, trainlabels)\n",
    "modelErr = 1 - modelTraining.score(testdata, testlabels)\n",
    "print(\"The whole training data has a cross-validation error of\", modelErr)"
   ]
  },
  {
   "cell_type": "markdown",
   "metadata": {},
   "source": [
    "The error is marginally higher using the whole training set and test data."
   ]
  },
  {
   "cell_type": "markdown",
   "metadata": {},
   "source": [
    "### Problem 3: Detecting Cancer with SVMs and Logistic Regression (45 points)"
   ]
  },
  {
   "cell_type": "markdown",
   "metadata": {},
   "source": [
    "We consider the [Breast Cancer Wisconsin Data Set](https://archive.ics.uci.edu/ml/datasets/Breast+Cancer+Wisconsin+%28Diagnostic%29) from \n",
    "W.N. Street, W.H. Wolberg and O.L. Mangasarian. Nuclear feature extraction for breast tumor diagnosis. IS&T/SPIE 1993 International Symposium on Electronic Imaging: Science and Technology, volume 1905, pages 861-870, San Jose, CA, 1993. \n",
    "\n",
    "The authors diagnosed people by characterizing 3 cell nuclei per person extracted from the breast (pictures [here](http://web.archive.org/web/19970225174429/http://www.cs.wisc.edu/~street/images/)), each with 10 features (for a 30-dimensional feature space):\n",
    "\n",
    "1. radius (mean of distances from center to points on the perimeter) \n",
    "\n",
    "2. texture (standard deviation of gray-scale values) \n",
    "\n",
    "3. perimeter \n",
    "\n",
    "4. area \n",
    "\n",
    "5. smoothness (local variation in radius lengths) \n",
    "\n",
    "6. compactness (perimeter^2 / area - 1.0) \n",
    "\n",
    "7. concavity (severity of concave portions of the contour) \n",
    "\n",
    "8. concave points (number of concave portions of the contour) \n",
    "\n",
    "9. symmetry \n",
    "\n",
    "10. fractal dimension (\"coastline approximation\" - 1)\n",
    "\n",
    "and classified the sample into one of two classes: Malignant ($+1$) or Benign ($-1$). You can read the original paper for more on what these features mean.\n",
    "\n",
    "You will be attempting to classify if a sample is Malignant or Benign using Support Vector Machines, as well as Logistic Regression. Since we don't have all that much data, we will use 10-fold cross-validation to tune our parameters for our SVMs and Logistic Regression. We use 90% of the data for training, and 10% for testing.\n",
    "\n",
    "You will be experimenting with SVMs using Gaussian RBF kernels through sklearn.svm.SVC, linear SVMs through sklearn.svm.LinearSVC, and sklearn.linear_model.LogisticRegression for Logistic Regression. \n",
    "\n",
    "Your model selection will be done with cross-validation via sklearn.model_selection's cross_val_score. This returns the accuracy for each fold, i.e. the fraction of samples classified correctly. Thus, the cross-validation error is simply 1-mean(cross_val_score)."
   ]
  },
  {
   "cell_type": "markdown",
   "metadata": {},
   "source": [
    "First, we load the data. We will use scikit-learn's train test split function to split the data. The data is scaled for reasons outlined <a href=\"http://www.csie.ntu.edu.tw/~cjlin/papers/guide/guide.pdf\">here</a>. In short, it helps avoid some numerical issues and avoids some problems with certain features which are typically large affecting the SVM optimization problem unfairly compared to features which are typically small. "
   ]
  },
  {
   "cell_type": "code",
   "execution_count": 17,
   "metadata": {},
   "outputs": [],
   "source": [
    "from sklearn.model_selection import train_test_split\n",
    "\n",
    "cancer = genfromtxt('Data/wdbc.csv', delimiter=',')\n",
    "\n",
    "np.random.seed(seed=282017) # seed the RNG for repeatability\n",
    "idx=np.random.permutation(cancer.shape[0])\n",
    "cancer=cancer[idx]\n",
    "\n",
    "cancer_features=cancer[:,1:]\n",
    "cancer_labels=cancer[:,0]\n",
    "\n",
    "#The training data is in data_train with labels label_train. \n",
    "# The test data is in data_test with labels label_test.\n",
    "data_train, data_test, label_train, label_test = train_test_split(cancer_features,cancer_labels,test_size=0.1,random_state=292017)\n",
    "\n",
    "# Rescale the training data and scale the test data correspondingly\n",
    "scaler=MinMaxScaler(feature_range=(-1,1))\n",
    "data_train=scaler.fit_transform(data_train) #Note that the scaling is determined solely via the training data!\n",
    "data_test=scaler.transform(data_test)"
   ]
  },
  {
   "cell_type": "markdown",
   "metadata": {},
   "source": [
    "The soft margin linear SVM is tuned based on a parameter $C$, which controls how much points can be violating the margin (this isn't the same $C$ as in the notes, though it serves the same function; see the [scikit-learn documentation](http://scikit-learn.org/stable/modules/svm.html#svc) for details). \n",
    "\n",
    "Use cross-validation to select a value of $C$ for a linear SVM (sklearn.svm.LinearSVC) by varying $C$ from $2^{-5},2^{-4},\\ldots,2^{15}$. \n",
    "\n",
    "Which value of $C$ would you choose, and why? What is the corresponding cross-validation error? <b>(10 points)</b>"
   ]
  },
  {
   "cell_type": "code",
   "execution_count": 21,
   "metadata": {},
   "outputs": [
    {
     "name": "stdout",
     "output_type": "stream",
     "text": [
      "The most accurate value of C is 2^ -3  with an error of 0.02729944039521026\n"
     ]
    }
   ],
   "source": [
    "from sklearn.model_selection import cross_val_score\n",
    "#Put your code here\n",
    "finalPnt = 0\n",
    "finalVal = 0\n",
    "for i in range(-5, 16):\n",
    "    model = LinearSVC(max_iter=9999999, C=2**i)\n",
    "    score = cross_val_score(model, data_train, label_train, cv=5)\n",
    "    result = score.mean()\n",
    "    if (result > finalVal):\n",
    "        finalVal = result\n",
    "        finalPnt = i\n",
    "print(\"The most accurate value of C is 2^\",finalPnt,\" with an error of\", 1 - finalVal)"
   ]
  },
  {
   "cell_type": "markdown",
   "metadata": {},
   "source": [
    "The best value of C is 2^ -3 because it is the most accurate with an error of only 0.02729944039521026"
   ]
  },
  {
   "cell_type": "markdown",
   "metadata": {},
   "source": [
    "You will now experiment with using kernels in an SVM, particularly the Gaussian RBF kernel (in sklearn.svm.SVC). The SVM has two parameters to tune in this case: $C$ (as before), and $\\gamma$, which is a parameter in the RBF. \n",
    "\n",
    "Use cross-validation to select parameters $(C,\\gamma)$ by searching varying $(C,\\gamma)$ over $C=2^{-5},2^{-4},\\ldots,2^{15}$ and $\\gamma=2^{-15},\\ldots,2^{3}$ [So, you will try about 400 parameter choices]. Out of these, which $(C,\\gamma)$ parameters would you choose? What is the corresponding cross-validation error? \n",
    "\n",
    "This procedure is known as a *grid search*.We are using a fairly coarse grid for this problem, but one could use a finer grid once the rough range of good parameters is known (rather than starting with a fine grid, which would waste a lot of time). <b>(10 points)</b>"
   ]
  },
  {
   "cell_type": "code",
   "execution_count": 36,
   "metadata": {},
   "outputs": [
    {
     "name": "stdout",
     "output_type": "stream",
     "text": [
      "The best choices are 𝐶 = 2^ 0  and 𝛾 = 2^ -2  with the error of 0.019513413363038246\n"
     ]
    }
   ],
   "source": [
    "# Put your code here\n",
    "error = 1\n",
    "bestC = 0\n",
    "bestG = 0\n",
    "for i in range(-5, 16):\n",
    "    for j in range(-15, 4):\n",
    "        model = SVC(C=2**i, gamma=2**j);\n",
    "        result = cross_val_score(model, data_train, label_train, cv=5)\n",
    "        accurate = result.mean()\n",
    "        if (1 - accurate < error):\n",
    "            error = 1 - accurate\n",
    "            bestC = i\n",
    "            bestG = j\n",
    "print(\"The best choices are 𝐶 = 2^\",bestC,\" and 𝛾 = 2^\",bestG,\" with the error of\",error)"
   ]
  },
  {
   "cell_type": "markdown",
   "metadata": {},
   "source": [
    "Again, they are the best choices because they have the lowest amount of error."
   ]
  },
  {
   "cell_type": "markdown",
   "metadata": {},
   "source": [
    "As stated in a footnote in the notes, Logistic Regression normally has a regularizer parameter to promote stability. Scikit-learn calls this parameter $C$ (which is like $\\lambda^{-1}$ in the notes); see the [LibLinear](http://www.csie.ntu.edu.tw/~cjlin/papers/liblinear.pdf) documentation for the exact meaning of $C$. \n",
    "\n",
    "Use cross-validation to select a value of $C$ for logistic regression (sklearn.linear_model.LogisticRegression) by varying $C$ from $2^{-14},2^{-4},\\ldots,2^{14}$. You may optionally make use of sklearn.model_selection.GridSearchCV, or write the search by hand (as before). \n",
    "\n",
    "Which value of $C$ would you choose? What is the corresponding cross-validation error? **(5 points)**"
   ]
  },
  {
   "cell_type": "code",
   "execution_count": 35,
   "metadata": {},
   "outputs": [
    {
     "name": "stdout",
     "output_type": "stream",
     "text": [
      "The most accurate value of C is 2^ 0  with an error of 0.019494376622128273\n"
     ]
    }
   ],
   "source": [
    "#Put your code here\n",
    "from sklearn.model_selection import cross_val_score\n",
    "#Put your code here\n",
    "finalPnt = 0\n",
    "finalVal = 0\n",
    "for i in range(-5, 16):\n",
    "    model = LogisticRegression(solver='lbfgs', max_iter=99999, C=2**i)\n",
    "    score = cross_val_score(model, data_train, label_train, cv=5)\n",
    "    result = score.mean()\n",
    "    if (result > finalVal):\n",
    "        finalVal = result\n",
    "        finalPnt = i\n",
    "print(\"The most accurate value of C is 2^\",finalPnt,\" with an error of\", 1 - finalVal)"
   ]
  },
  {
   "cell_type": "markdown",
   "metadata": {},
   "source": [
    "The best value of C = 2^ 0  with an error of 0.019494376622128273. This is pretty copy-paste from above."
   ]
  },
  {
   "cell_type": "markdown",
   "metadata": {},
   "source": [
    "Based on the classifiers you selected thusfar for Linear SVM, SVM + Gaussian RBF and Logistic Regression, which classifier would you pick? Make sure to take into account error, the application and computational considerations. **(5 points)**"
   ]
  },
  {
   "cell_type": "markdown",
   "metadata": {},
   "source": [
    "I would choose the Logistic Regression for both speed and accuracy. Not only is as accurate as the SVM + Gaussian RBF, it is significantly faster. For some reason, I feel as if there must've been a flaw because of the significant speed boost AND slight performance boost. Either way, the difference in error between SVM + Gaussian RBF is negatable and the regular SVM has a much greater error."
   ]
  },
  {
   "cell_type": "markdown",
   "metadata": {},
   "source": [
    "Train the classifier selected above on the whole training set. Then, estimate the prediction error using the test set. What is your estimate of the prediction error? How does it compare to the cross-validation error?  <b>(10 points)</b>"
   ]
  },
  {
   "cell_type": "code",
   "execution_count": 39,
   "metadata": {},
   "outputs": [
    {
     "name": "stdout",
     "output_type": "stream",
     "text": [
      "Classifier Error is  0.0\n"
     ]
    }
   ],
   "source": [
    "#Put your code here\n",
    "def calculateError(predicted, expected):\n",
    "    sum = 0\n",
    "    for i in range(0, predicted.size):\n",
    "        if (predicted[i] != expected[i]):\n",
    "            sum += 1\n",
    "    return (sum / predicted.size)\n",
    "\n",
    "model = LogisticRegression(solver='lbfgs', max_iter=99999, C=2**0)\n",
    "model.fit(data_train, label_train)\n",
    "predictions = model.predict(data_test)\n",
    "print(\"Classifier Error is \", calculateError(predictions, label_test))"
   ]
  },
  {
   "cell_type": "markdown",
   "metadata": {},
   "source": [
    "The prediction error is about 2%, yet, in this particular test, the error is 0%. It is most likely luck that there wasnt a slight bit of error in this particular test."
   ]
  },
  {
   "cell_type": "markdown",
   "metadata": {},
   "source": [
    "Do you think the 0,1-loss is appropriate performance measure to report, in this case? If so, why? If not, how would you measure performance? **(5 points)**"
   ]
  },
  {
   "cell_type": "markdown",
   "metadata": {},
   "source": [
    "in this case, the matrix are binary, there are no values that are closer to correct than others. Therefore, the 0,1-loss seems to be an appropiate measurement."
   ]
  },
  {
   "cell_type": "markdown",
   "metadata": {
    "collapsed": true
   },
   "source": [
    "## And this concludes Lab 3! "
   ]
  }
 ],
 "metadata": {
  "anaconda-cloud": {},
  "kernelspec": {
   "display_name": "Python 3",
   "language": "python",
   "name": "python3"
  },
  "language_info": {
   "codemirror_mode": {
    "name": "ipython",
    "version": 3
   },
   "file_extension": ".py",
   "mimetype": "text/x-python",
   "name": "python",
   "nbconvert_exporter": "python",
   "pygments_lexer": "ipython3",
   "version": "3.7.1"
  }
 },
 "nbformat": 4,
 "nbformat_minor": 1
}
